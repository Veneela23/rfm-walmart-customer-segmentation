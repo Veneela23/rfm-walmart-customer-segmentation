{
 "cells": [
  {
   "cell_type": "markdown",
   "id": "49ebd70a",
   "metadata": {},
   "source": [
    "#  RFM Analysis on Walmart Dataset\n",
    "This project uses RFM (Recency, Frequency, Monetary) analysis to segment customers based on their purchasing behavior."
   ]
  },
  {
   "cell_type": "code",
   "execution_count": null,
   "id": "729253b9",
   "metadata": {},
   "outputs": [],
   "source": [
    "\n",
    "import pandas as pd\n",
    "import numpy as np\n",
    "import matplotlib.pyplot as plt\n",
    "import seaborn as sns\n",
    "from datetime import datetime\n",
    "\n",
    "# Load data\n",
    "df = pd.read_csv('Walmart.csv')\n"
   ]
  },
  {
   "cell_type": "markdown",
   "id": "54637a25",
   "metadata": {},
   "source": [
    "### Data Cleaning"
   ]
  },
  {
   "cell_type": "code",
   "execution_count": null,
   "id": "95d3407f",
   "metadata": {},
   "outputs": [],
   "source": [
    "\n",
    "df['unit_price'] = df['unit_price'].replace('[\\$,]', '', regex=True).astype(float)\n",
    "df['date'] = pd.to_datetime(df['date'], format='%d/%m/%y')\n",
    "df['TotalAmount'] = df['unit_price'] * df['quantity']\n"
   ]
  },
  {
   "cell_type": "markdown",
   "id": "a9bba52a",
   "metadata": {},
   "source": [
    "###  Snapshot Date"
   ]
  },
  {
   "cell_type": "code",
   "execution_count": null,
   "id": "739db866",
   "metadata": {},
   "outputs": [],
   "source": [
    "\n",
    "snapshot_date = df['date'].max() + pd.Timedelta(days=1)\n"
   ]
  },
  {
   "cell_type": "markdown",
   "id": "d8c2da07",
   "metadata": {},
   "source": [
    "### RFM Table"
   ]
  },
  {
   "cell_type": "code",
   "execution_count": null,
   "id": "a4459d08",
   "metadata": {},
   "outputs": [],
   "source": [
    "\n",
    "rfm = df.groupby('invoice_id').agg({\n",
    "    'date': lambda x: (snapshot_date - x.max()).days,\n",
    "    'invoice_id': 'count',\n",
    "    'TotalAmount': 'sum'\n",
    "})\n",
    "rfm.rename(columns={\n",
    "    'date': 'Recency',\n",
    "    'invoice_id': 'Frequency',\n",
    "    'TotalAmount': 'Monetary'\n",
    "}, inplace=True)\n"
   ]
  },
  {
   "cell_type": "markdown",
   "id": "58f7e208",
   "metadata": {},
   "source": [
    "###  RFM Scoring"
   ]
  },
  {
   "cell_type": "code",
   "execution_count": null,
   "id": "5becc3a6",
   "metadata": {},
   "outputs": [],
   "source": [
    "\n",
    "rfm['R'] = pd.qcut(rfm['Recency'], 4, labels=[4,3,2,1])\n",
    "rfm['F'] = pd.qcut(rfm['Frequency'].rank(method='first'), 4, labels=[1,2,3,4])\n",
    "rfm['M'] = pd.qcut(rfm['Monetary'], 4, labels=[1,2,3,4])\n",
    "rfm['RFM_Score'] = rfm[['R','F','M']].sum(axis=1)\n"
   ]
  },
  {
   "cell_type": "markdown",
   "id": "02a5ee10",
   "metadata": {},
   "source": [
    "###  Segment Customers"
   ]
  },
  {
   "cell_type": "code",
   "execution_count": null,
   "id": "b5445377",
   "metadata": {},
   "outputs": [],
   "source": [
    "\n",
    "def segment(score):\n",
    "    score = int(score)\n",
    "    if score >= 9:\n",
    "        return 'Top Customers'\n",
    "    elif score >= 7:\n",
    "        return 'Loyal Customers'\n",
    "    elif score >= 5:\n",
    "        return 'Potential'\n",
    "    else:\n",
    "        return 'Churned'\n",
    "\n",
    "rfm['Segment'] = rfm['RFM_Score'].apply(segment)\n",
    "rfm['Segment'].value_counts()\n"
   ]
  },
  {
   "cell_type": "markdown",
   "id": "4047cfae",
   "metadata": {},
   "source": [
    "### Visualize"
   ]
  },
  {
   "cell_type": "code",
   "execution_count": null,
   "id": "8750ce81",
   "metadata": {},
   "outputs": [],
   "source": [
    "\n",
    "plt.figure(figsize=(8,5))\n",
    "sns.countplot(data=rfm, x='Segment', order=rfm['Segment'].value_counts().index, palette='Set2')\n",
    "plt.title(\"Customer Segments Based on RFM Score\")\n",
    "plt.xlabel(\"Segment\")\n",
    "plt.ylabel(\"Number of Invoices\")\n",
    "plt.show()\n"
   ]
  },
  {
   "cell_type": "markdown",
   "id": "9f8ba103",
   "metadata": {},
   "source": [
    "### Export"
   ]
  },
  {
   "cell_type": "code",
   "execution_count": null,
   "id": "b68cf789",
   "metadata": {},
   "outputs": [],
   "source": [
    "\n",
    "rfm.to_csv('rfm_walmart_output.csv')\n"
   ]
  }
 ],
 "metadata": {
  "language": "python"
 },
 "nbformat": 4,
 "nbformat_minor": 5
}
